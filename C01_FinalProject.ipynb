{
 "cells": [
  {
   "cell_type": "markdown",
   "id": "6bd1bebc",
   "metadata": {},
   "source": [
    "# Largest Earthquakes Data Analysis"
   ]
  },
  {
   "cell_type": "markdown",
   "id": "f7e9d829",
   "metadata": {},
   "source": [
    "### About Dataset\n",
    "CONTENT\n",
    "Earthquakes are caused by movements within the Earth's crust and uppermost mantle. They range from events too weak to be detectable except by sensitive instrumentation, to sudden and violent events lasting many minutes which have caused some of the greatest disasters in human history. Below, earthquakes are listed by period, region or country, year, magnitude, cost, fatalities and number of scientific studies.\n",
    "\n",
    "### Context\n",
    "The Modified Mercalli intensity scale (MM, MMI, or MCS), developed from Giuseppe Mercalli's Mercalli intensity scale of 1902, is a seismic intensity scale used for measuring the intensity of shaking produced by an earthquake. It measures the effects of an earthquake at a given location, distinguished from the earthquake's inherent force or strength as measured by seismic magnitude scales (such as the \"Mw\" magnitude usually reported for an earthquake). While shaking is caused by the seismic energy released by an earthquake, earthquakes differ in how much of their energy is radiated as seismic waves. Deeper earthquakes also have less interaction with the surface, and their energy is spread out across a larger volume. Shaking intensity is localized, generally diminishing with distance from the earthquake's epicenter, but can be amplified in sedimentary basins and certain kinds of unconsolidated soils."
   ]
  },
  {
   "cell_type": "markdown",
   "id": "d0c71c81",
   "metadata": {},
   "source": [
    "The data was imported from Kaggle:\n",
    "\n",
    "https://www.kaggle.com/datasets/rajkumarpandey02/lists-of-earthquakes-deadliest-and-largest?select=Largest+earthquakes+by+year.csv"
   ]
  },
  {
   "cell_type": "markdown",
   "id": "59845350",
   "metadata": {},
   "source": [
    "## Imports"
   ]
  },
  {
   "cell_type": "code",
   "execution_count": 61,
   "id": "269e07e5",
   "metadata": {},
   "outputs": [],
   "source": [
    "import pandas as pd\n",
    "import matplotlib.pyplot as plt\n",
    "import zipfile\n",
    "import os\n",
    "from geopy.geocoders import Nominatim\n",
    "import numpy as np\n",
    "import roman\n",
    "import datetime"
   ]
  },
  {
   "cell_type": "markdown",
   "id": "b2ba8ace",
   "metadata": {},
   "source": [
    "## Data Loading"
   ]
  },
  {
   "cell_type": "code",
   "execution_count": 2,
   "id": "bf0c23b9",
   "metadata": {},
   "outputs": [],
   "source": [
    "cwd = os.getcwd()"
   ]
  },
  {
   "cell_type": "code",
   "execution_count": 3,
   "id": "c103ea4f",
   "metadata": {},
   "outputs": [],
   "source": [
    "with zipfile.ZipFile(\"archive.zip\", mode=\"r\") as archive:\n",
    "    filenames = archive.infolist()\n",
    "    for file in filenames:\n",
    "        archive.extract(file, path=cwd)"
   ]
  },
  {
   "cell_type": "code",
   "execution_count": 4,
   "id": "ec0b2611",
   "metadata": {},
   "outputs": [],
   "source": [
    "df = pd.read_csv('Largest earthquakes by year.csv', index_col=0)"
   ]
  },
  {
   "cell_type": "markdown",
   "id": "d175aa9d",
   "metadata": {},
   "source": [
    "## First Look at Data and Cleaning"
   ]
  },
  {
   "cell_type": "code",
   "execution_count": 5,
   "id": "70781e0e",
   "metadata": {},
   "outputs": [
    {
     "data": {
      "text/html": [
       "<div>\n",
       "<style scoped>\n",
       "    .dataframe tbody tr th:only-of-type {\n",
       "        vertical-align: middle;\n",
       "    }\n",
       "\n",
       "    .dataframe tbody tr th {\n",
       "        vertical-align: top;\n",
       "    }\n",
       "\n",
       "    .dataframe thead th {\n",
       "        text-align: right;\n",
       "    }\n",
       "</style>\n",
       "<table border=\"1\" class=\"dataframe\">\n",
       "  <thead>\n",
       "    <tr style=\"text-align: right;\">\n",
       "      <th></th>\n",
       "      <th>Year</th>\n",
       "      <th>Magnitude</th>\n",
       "      <th>Location</th>\n",
       "      <th>Depth (km)</th>\n",
       "      <th>MMI</th>\n",
       "      <th>Notes</th>\n",
       "      <th>Deaths</th>\n",
       "      <th>Injuries</th>\n",
       "      <th>Event</th>\n",
       "      <th>Date</th>\n",
       "    </tr>\n",
       "  </thead>\n",
       "  <tbody>\n",
       "    <tr>\n",
       "      <th>0</th>\n",
       "      <td>1937</td>\n",
       "      <td>7.8</td>\n",
       "      <td>Republic of China, Qinghai</td>\n",
       "      <td>15.0</td>\n",
       "      <td>VIII</td>\n",
       "      <td>-</td>\n",
       "      <td>0</td>\n",
       "      <td>0</td>\n",
       "      <td>[8]</td>\n",
       "      <td>January 7</td>\n",
       "    </tr>\n",
       "    <tr>\n",
       "      <th>1</th>\n",
       "      <td>1938</td>\n",
       "      <td>8.5–8.6</td>\n",
       "      <td>Dutch East Indies, Maluku offshore</td>\n",
       "      <td>60.0</td>\n",
       "      <td>VII</td>\n",
       "      <td>A damaging tsunami up to 1.5 meters high was r...</td>\n",
       "      <td>0</td>\n",
       "      <td>0</td>\n",
       "      <td>1938 Banda Sea earthquake</td>\n",
       "      <td>February 1</td>\n",
       "    </tr>\n",
       "    <tr>\n",
       "      <th>2</th>\n",
       "      <td>1939</td>\n",
       "      <td>8.1</td>\n",
       "      <td>Dutch East Indies, Central Sulawesi offshore</td>\n",
       "      <td>150.0</td>\n",
       "      <td>VII</td>\n",
       "      <td>-</td>\n",
       "      <td>0</td>\n",
       "      <td>0</td>\n",
       "      <td>[9]</td>\n",
       "      <td>December 21</td>\n",
       "    </tr>\n",
       "    <tr>\n",
       "      <th>3</th>\n",
       "      <td>1940</td>\n",
       "      <td>8.2</td>\n",
       "      <td>Peru, Lima</td>\n",
       "      <td>45.0</td>\n",
       "      <td>VIII</td>\n",
       "      <td>A tsunami up to 2 meters high was generated wi...</td>\n",
       "      <td>179–300</td>\n",
       "      <td>3500</td>\n",
       "      <td>1940 Lima earthquake</td>\n",
       "      <td>May 24</td>\n",
       "    </tr>\n",
       "    <tr>\n",
       "      <th>4</th>\n",
       "      <td>1941</td>\n",
       "      <td>8.0</td>\n",
       "      <td>Japan, Miyazaki offshore</td>\n",
       "      <td>35.0</td>\n",
       "      <td>VII</td>\n",
       "      <td>A tsunami up to 1.2 meters high was observed i...</td>\n",
       "      <td>2</td>\n",
       "      <td>0</td>\n",
       "      <td>1941 Hyūga-nada earthquake</td>\n",
       "      <td>November 18</td>\n",
       "    </tr>\n",
       "  </tbody>\n",
       "</table>\n",
       "</div>"
      ],
      "text/plain": [
       "   Year Magnitude                                      Location  Depth (km)  \\\n",
       "0  1937       7.8                    Republic of China, Qinghai        15.0   \n",
       "1  1938   8.5–8.6            Dutch East Indies, Maluku offshore        60.0   \n",
       "2  1939       8.1  Dutch East Indies, Central Sulawesi offshore       150.0   \n",
       "3  1940       8.2                                    Peru, Lima        45.0   \n",
       "4  1941       8.0                      Japan, Miyazaki offshore        35.0   \n",
       "\n",
       "    MMI                                              Notes   Deaths Injuries  \\\n",
       "0  VIII                                                  -        0        0   \n",
       "1   VII  A damaging tsunami up to 1.5 meters high was r...        0        0   \n",
       "2   VII                                                  -        0        0   \n",
       "3  VIII  A tsunami up to 2 meters high was generated wi...  179–300     3500   \n",
       "4   VII  A tsunami up to 1.2 meters high was observed i...        2        0   \n",
       "\n",
       "                        Event         Date  \n",
       "0                         [8]    January 7  \n",
       "1   1938 Banda Sea earthquake   February 1  \n",
       "2                         [9]  December 21  \n",
       "3        1940 Lima earthquake       May 24  \n",
       "4  1941 Hyūga-nada earthquake  November 18  "
      ]
     },
     "execution_count": 5,
     "metadata": {},
     "output_type": "execute_result"
    }
   ],
   "source": [
    "df.head()"
   ]
  },
  {
   "cell_type": "code",
   "execution_count": 6,
   "id": "801289b6",
   "metadata": {},
   "outputs": [
    {
     "data": {
      "text/plain": [
       "(91, 10)"
      ]
     },
     "execution_count": 6,
     "metadata": {},
     "output_type": "execute_result"
    }
   ],
   "source": [
    "df.shape"
   ]
  },
  {
   "cell_type": "markdown",
   "id": "5dd29bfe",
   "metadata": {},
   "source": [
    "There are several columns that need to be 'fixed'.\n",
    "Let's seee what data types we are dealing with:"
   ]
  },
  {
   "cell_type": "code",
   "execution_count": 7,
   "id": "653f381a",
   "metadata": {},
   "outputs": [
    {
     "data": {
      "text/plain": [
       "Year            int64\n",
       "Magnitude      object\n",
       "Location       object\n",
       "Depth (km)    float64\n",
       "MMI            object\n",
       "Notes          object\n",
       "Deaths         object\n",
       "Injuries       object\n",
       "Event          object\n",
       "Date           object\n",
       "dtype: object"
      ]
     },
     "execution_count": 7,
     "metadata": {},
     "output_type": "execute_result"
    }
   ],
   "source": [
    "df.dtypes"
   ]
  },
  {
   "cell_type": "markdown",
   "id": "b29bb6c2",
   "metadata": {},
   "source": [
    "### Notes and Event\n",
    "We are going to delete these two columns"
   ]
  },
  {
   "cell_type": "code",
   "execution_count": 8,
   "id": "bf9b69de",
   "metadata": {},
   "outputs": [],
   "source": [
    "df.drop(['Notes', 'Event'], inplace=True, axis=1)"
   ]
  },
  {
   "cell_type": "markdown",
   "id": "78d43967",
   "metadata": {},
   "source": [
    "### Magnitude\n",
    "The Magnitude column is an object, because of these three values :"
   ]
  },
  {
   "cell_type": "code",
   "execution_count": 9,
   "id": "6a88a8b8",
   "metadata": {},
   "outputs": [
    {
     "data": {
      "text/html": [
       "<div>\n",
       "<style scoped>\n",
       "    .dataframe tbody tr th:only-of-type {\n",
       "        vertical-align: middle;\n",
       "    }\n",
       "\n",
       "    .dataframe tbody tr th {\n",
       "        vertical-align: top;\n",
       "    }\n",
       "\n",
       "    .dataframe thead th {\n",
       "        text-align: right;\n",
       "    }\n",
       "</style>\n",
       "<table border=\"1\" class=\"dataframe\">\n",
       "  <thead>\n",
       "    <tr style=\"text-align: right;\">\n",
       "      <th></th>\n",
       "      <th>Year</th>\n",
       "      <th>Magnitude</th>\n",
       "      <th>Location</th>\n",
       "      <th>Depth (km)</th>\n",
       "      <th>MMI</th>\n",
       "      <th>Deaths</th>\n",
       "      <th>Injuries</th>\n",
       "      <th>Date</th>\n",
       "    </tr>\n",
       "  </thead>\n",
       "  <tbody>\n",
       "    <tr>\n",
       "      <th>1</th>\n",
       "      <td>1938</td>\n",
       "      <td>8.5–8.6</td>\n",
       "      <td>Dutch East Indies, Maluku offshore</td>\n",
       "      <td>60.0</td>\n",
       "      <td>VII</td>\n",
       "      <td>0</td>\n",
       "      <td>0</td>\n",
       "      <td>February 1</td>\n",
       "    </tr>\n",
       "    <tr>\n",
       "      <th>6</th>\n",
       "      <td>1943</td>\n",
       "      <td>7.9–8.2</td>\n",
       "      <td>Chile, Coquimbo</td>\n",
       "      <td>35.0</td>\n",
       "      <td>VIII</td>\n",
       "      <td>11</td>\n",
       "      <td>0</td>\n",
       "      <td>April 6</td>\n",
       "    </tr>\n",
       "    <tr>\n",
       "      <th>70</th>\n",
       "      <td>2004</td>\n",
       "      <td>9.1–9.3</td>\n",
       "      <td>Indonesia, Sumatra</td>\n",
       "      <td>10.0</td>\n",
       "      <td>IX</td>\n",
       "      <td>227898</td>\n",
       "      <td>125000</td>\n",
       "      <td>December 26</td>\n",
       "    </tr>\n",
       "  </tbody>\n",
       "</table>\n",
       "</div>"
      ],
      "text/plain": [
       "    Year Magnitude                            Location  Depth (km)   MMI  \\\n",
       "1   1938   8.5–8.6  Dutch East Indies, Maluku offshore        60.0   VII   \n",
       "6   1943   7.9–8.2                     Chile, Coquimbo        35.0  VIII   \n",
       "70  2004   9.1–9.3                  Indonesia, Sumatra        10.0    IX   \n",
       "\n",
       "    Deaths Injuries         Date  \n",
       "1        0        0   February 1  \n",
       "6       11        0      April 6  \n",
       "70  227898   125000  December 26  "
      ]
     },
     "execution_count": 9,
     "metadata": {},
     "output_type": "execute_result"
    }
   ],
   "source": [
    "df[df.Magnitude.str.len()>3]"
   ]
  },
  {
   "cell_type": "markdown",
   "id": "441d2e2c",
   "metadata": {},
   "source": [
    "According to Wikipedia (https://en.wikipedia.org/wiki/Lists_of_earthquakes) we can replace these values with:\n",
    "\n",
    " - 8.5\n",
    " - 8.1\n",
    " - 9.1"
   ]
  },
  {
   "cell_type": "code",
   "execution_count": 10,
   "id": "343bb996",
   "metadata": {},
   "outputs": [
    {
     "data": {
      "text/plain": [
       "0         7.8\n",
       "1     8.5–8.6\n",
       "2         8.1\n",
       "3         8.2\n",
       "4         8.0\n",
       "       ...   \n",
       "86        7.8\n",
       "87        8.2\n",
       "88        7.6\n",
       "89        7.6\n",
       "90        7.8\n",
       "Name: Magnitude, Length: 91, dtype: object"
      ]
     },
     "execution_count": 10,
     "metadata": {},
     "output_type": "execute_result"
    }
   ],
   "source": [
    "df.Magnitude.replace()"
   ]
  },
  {
   "cell_type": "code",
   "execution_count": 11,
   "id": "842cd6b6",
   "metadata": {},
   "outputs": [],
   "source": [
    "df.replace({'Magnitude' : { '8.5–8.6' : '8.5', '7.9–8.2' : '8.1', '9.1–9.3' : '9.1' }}, inplace=True)"
   ]
  },
  {
   "cell_type": "markdown",
   "id": "1266030f",
   "metadata": {},
   "source": [
    "Let's convert the column to numbers:"
   ]
  },
  {
   "cell_type": "code",
   "execution_count": 12,
   "id": "c0155069",
   "metadata": {},
   "outputs": [],
   "source": [
    "df['Magnitude'] = df['Magnitude'].astype(float)"
   ]
  },
  {
   "cell_type": "markdown",
   "id": "745ddd34",
   "metadata": {},
   "source": [
    "### Date"
   ]
  },
  {
   "cell_type": "code",
   "execution_count": 13,
   "id": "08b4da22",
   "metadata": {},
   "outputs": [],
   "source": [
    "# df['Courses'].astype(str) +\"-\"+ df[\"Duration\"]\n",
    "df[\"Date\"] = pd.to_datetime(df['Year'].astype(str) +\" \"+ df[\"Date\"])"
   ]
  },
  {
   "cell_type": "markdown",
   "id": "b6fb6181",
   "metadata": {},
   "source": [
    "We can now remove the column 'Year'"
   ]
  },
  {
   "cell_type": "code",
   "execution_count": 29,
   "id": "0b17d469",
   "metadata": {},
   "outputs": [],
   "source": [
    "df.drop('Year', axis=1, inplace=True)"
   ]
  },
  {
   "cell_type": "code",
   "execution_count": 30,
   "id": "4054b96b",
   "metadata": {},
   "outputs": [
    {
     "data": {
      "text/html": [
       "<div>\n",
       "<style scoped>\n",
       "    .dataframe tbody tr th:only-of-type {\n",
       "        vertical-align: middle;\n",
       "    }\n",
       "\n",
       "    .dataframe tbody tr th {\n",
       "        vertical-align: top;\n",
       "    }\n",
       "\n",
       "    .dataframe thead th {\n",
       "        text-align: right;\n",
       "    }\n",
       "</style>\n",
       "<table border=\"1\" class=\"dataframe\">\n",
       "  <thead>\n",
       "    <tr style=\"text-align: right;\">\n",
       "      <th></th>\n",
       "      <th>Magnitude</th>\n",
       "      <th>Location</th>\n",
       "      <th>Depth (km)</th>\n",
       "      <th>MMI</th>\n",
       "      <th>Deaths</th>\n",
       "      <th>Injuries</th>\n",
       "      <th>Date</th>\n",
       "      <th>Offshore</th>\n",
       "      <th>Country</th>\n",
       "    </tr>\n",
       "  </thead>\n",
       "  <tbody>\n",
       "    <tr>\n",
       "      <th>0</th>\n",
       "      <td>7.8</td>\n",
       "      <td>Republic of China, Qinghai</td>\n",
       "      <td>15.0</td>\n",
       "      <td>8</td>\n",
       "      <td>0</td>\n",
       "      <td>0</td>\n",
       "      <td>1937-01-07</td>\n",
       "      <td>0</td>\n",
       "      <td>Republic of China</td>\n",
       "    </tr>\n",
       "    <tr>\n",
       "      <th>1</th>\n",
       "      <td>8.5</td>\n",
       "      <td>Dutch East Indies, Maluku offshore</td>\n",
       "      <td>60.0</td>\n",
       "      <td>7</td>\n",
       "      <td>0</td>\n",
       "      <td>0</td>\n",
       "      <td>1938-02-01</td>\n",
       "      <td>1</td>\n",
       "      <td>Dutch East Indies</td>\n",
       "    </tr>\n",
       "    <tr>\n",
       "      <th>2</th>\n",
       "      <td>8.1</td>\n",
       "      <td>Dutch East Indies, Central Sulawesi offshore</td>\n",
       "      <td>150.0</td>\n",
       "      <td>7</td>\n",
       "      <td>0</td>\n",
       "      <td>0</td>\n",
       "      <td>1939-12-21</td>\n",
       "      <td>1</td>\n",
       "      <td>Dutch East Indies</td>\n",
       "    </tr>\n",
       "    <tr>\n",
       "      <th>3</th>\n",
       "      <td>8.2</td>\n",
       "      <td>Peru, Lima</td>\n",
       "      <td>45.0</td>\n",
       "      <td>8</td>\n",
       "      <td>179</td>\n",
       "      <td>3500</td>\n",
       "      <td>1940-05-24</td>\n",
       "      <td>0</td>\n",
       "      <td>Peru</td>\n",
       "    </tr>\n",
       "    <tr>\n",
       "      <th>4</th>\n",
       "      <td>8.0</td>\n",
       "      <td>Japan, Miyazaki offshore</td>\n",
       "      <td>35.0</td>\n",
       "      <td>7</td>\n",
       "      <td>2</td>\n",
       "      <td>0</td>\n",
       "      <td>1941-11-18</td>\n",
       "      <td>1</td>\n",
       "      <td>Japan</td>\n",
       "    </tr>\n",
       "  </tbody>\n",
       "</table>\n",
       "</div>"
      ],
      "text/plain": [
       "   Magnitude                                      Location  Depth (km)  MMI  \\\n",
       "0        7.8                    Republic of China, Qinghai        15.0    8   \n",
       "1        8.5            Dutch East Indies, Maluku offshore        60.0    7   \n",
       "2        8.1  Dutch East Indies, Central Sulawesi offshore       150.0    7   \n",
       "3        8.2                                    Peru, Lima        45.0    8   \n",
       "4        8.0                      Japan, Miyazaki offshore        35.0    7   \n",
       "\n",
       "   Deaths  Injuries       Date  Offshore            Country  \n",
       "0       0         0 1937-01-07         0  Republic of China  \n",
       "1       0         0 1938-02-01         1  Dutch East Indies  \n",
       "2       0         0 1939-12-21         1  Dutch East Indies  \n",
       "3     179      3500 1940-05-24         0               Peru  \n",
       "4       2         0 1941-11-18         1              Japan  "
      ]
     },
     "execution_count": 30,
     "metadata": {},
     "output_type": "execute_result"
    }
   ],
   "source": [
    "df.head()"
   ]
  },
  {
   "cell_type": "markdown",
   "id": "a100c94b",
   "metadata": {},
   "source": [
    "### Location"
   ]
  },
  {
   "cell_type": "code",
   "execution_count": 15,
   "id": "eaab0f5d",
   "metadata": {},
   "outputs": [
    {
     "name": "stdout",
     "output_type": "stream",
     "text": [
      "{'place_id': 307784541, 'licence': 'Data © OpenStreetMap contributors, ODbL 1.0. https://osm.org/copyright', 'osm_type': 'relation', 'osm_id': 153269, 'boundingbox': ['31.6018045', '39.2142318', '89.4022166', '103.0694065'], 'lat': '35.40709525', 'lon': '95.95211573241954', 'display_name': '青海省, 中国', 'class': 'boundary', 'type': 'administrative', 'importance': 0.610517291768724, 'icon': 'https://nominatim.openstreetmap.org/ui/mapicons/poi_boundary_administrative.p.20.png'}\n"
     ]
    }
   ],
   "source": [
    "# instantiate a new Nominatim client\n",
    "app = Nominatim(user_agent=\"tutorial\")\n",
    "# get location raw data\n",
    "location = app.geocode(\"China, Qinghai\").raw\n",
    "# print raw data\n",
    "print(location)"
   ]
  },
  {
   "cell_type": "markdown",
   "id": "49cccc4e",
   "metadata": {},
   "source": [
    "We can create a column 'Offshore':"
   ]
  },
  {
   "cell_type": "code",
   "execution_count": 16,
   "id": "5908fb0a",
   "metadata": {},
   "outputs": [],
   "source": [
    "# df[df['A'].str.contains(\"hello\")]\n",
    "df['Offshore'] = np.where(df['Location'].str.contains(\"offshore\"), 1, 0)"
   ]
  },
  {
   "cell_type": "markdown",
   "id": "7785da2e",
   "metadata": {},
   "source": [
    "And a column 'Country':"
   ]
  },
  {
   "cell_type": "code",
   "execution_count": 17,
   "id": "cf0143ce",
   "metadata": {},
   "outputs": [],
   "source": [
    "df['Country'] = df['Location'].str.split(',').str[0]"
   ]
  },
  {
   "cell_type": "markdown",
   "id": "efd60f8c",
   "metadata": {},
   "source": [
    "### Depth\n",
    "Let's rename the column as 'Depth':"
   ]
  },
  {
   "cell_type": "code",
   "execution_count": 38,
   "id": "e64ddc46",
   "metadata": {},
   "outputs": [],
   "source": [
    "df.rename(columns={\"Depth (km)\": \"Depth\"}, inplace=True)"
   ]
  },
  {
   "cell_type": "markdown",
   "id": "ba6de1ee",
   "metadata": {},
   "source": [
    "### MMI"
   ]
  },
  {
   "cell_type": "code",
   "execution_count": 18,
   "id": "0f84bef6",
   "metadata": {},
   "outputs": [
    {
     "data": {
      "text/plain": [
       "VIII      23\n",
       "IX        22\n",
       "VII       16\n",
       "VI        10\n",
       "X          4\n",
       "XI         4\n",
       "V          3\n",
       "IV         3\n",
       "I          2\n",
       "XII        2\n",
       "IX[14]     1\n",
       "VI[18]     1\n",
       "Name: MMI, dtype: int64"
      ]
     },
     "execution_count": 18,
     "metadata": {},
     "output_type": "execute_result"
    }
   ],
   "source": [
    "df.MMI.value_counts()"
   ]
  },
  {
   "cell_type": "markdown",
   "id": "876c9edf",
   "metadata": {},
   "source": [
    "We need to correct IX[14] and VI[18]"
   ]
  },
  {
   "cell_type": "code",
   "execution_count": 19,
   "id": "4fed9282",
   "metadata": {},
   "outputs": [],
   "source": [
    "df.replace({'MMI' : { 'IX[14]' : 'IX', 'VI[18]' : 'VI' }}, inplace=True)"
   ]
  },
  {
   "cell_type": "code",
   "execution_count": 20,
   "id": "a6313d44",
   "metadata": {},
   "outputs": [],
   "source": [
    "df.MMI = [roman.fromRoman(str(n)) for n in df.MMI]"
   ]
  },
  {
   "cell_type": "markdown",
   "id": "2f9f03d5",
   "metadata": {},
   "source": [
    "### Deaths"
   ]
  },
  {
   "cell_type": "code",
   "execution_count": 21,
   "id": "b44359f2",
   "metadata": {},
   "outputs": [
    {
     "data": {
      "text/plain": [
       "0          35\n",
       "2           5\n",
       "1           3\n",
       "189         2\n",
       "3           2\n",
       "21          2\n",
       "98          1\n",
       "2444        1\n",
       "10000       1\n",
       "938         1\n",
       "1621        1\n",
       "127         1\n",
       "2500        1\n",
       "12          1\n",
       "166         1\n",
       "145         1\n",
       "1[27]       1\n",
       "227898      1\n",
       "1313        1\n",
       "23          1\n",
       "87587       1\n",
       "550         1\n",
       "19747       1\n",
       "10          1\n",
       "6           1\n",
       "43          1\n",
       "28          1\n",
       "600         1\n",
       "85          1\n",
       "30          1\n",
       "11          1\n",
       "1223        1\n",
       "4000        1\n",
       "173         1\n",
       "2233        1\n",
       "50          1\n",
       "4800        1\n",
       "2336        1\n",
       "179–300     1\n",
       "56          1\n",
       "6000        1\n",
       "131         1\n",
       "125         1\n",
       "86          1\n",
       "52          1\n",
       "78          1\n",
       "8000        1\n",
       "57,350+     1\n",
       "Name: Deaths, dtype: int64"
      ]
     },
     "execution_count": 21,
     "metadata": {},
     "output_type": "execute_result"
    }
   ],
   "source": [
    "df.Deaths.value_counts()"
   ]
  },
  {
   "cell_type": "code",
   "execution_count": 22,
   "id": "5ef3eed8",
   "metadata": {},
   "outputs": [
    {
     "data": {
      "text/html": [
       "<div>\n",
       "<style scoped>\n",
       "    .dataframe tbody tr th:only-of-type {\n",
       "        vertical-align: middle;\n",
       "    }\n",
       "\n",
       "    .dataframe tbody tr th {\n",
       "        vertical-align: top;\n",
       "    }\n",
       "\n",
       "    .dataframe thead th {\n",
       "        text-align: right;\n",
       "    }\n",
       "</style>\n",
       "<table border=\"1\" class=\"dataframe\">\n",
       "  <thead>\n",
       "    <tr style=\"text-align: right;\">\n",
       "      <th></th>\n",
       "      <th>Year</th>\n",
       "      <th>Magnitude</th>\n",
       "      <th>Location</th>\n",
       "      <th>Depth (km)</th>\n",
       "      <th>MMI</th>\n",
       "      <th>Deaths</th>\n",
       "      <th>Injuries</th>\n",
       "      <th>Date</th>\n",
       "      <th>Offshore</th>\n",
       "      <th>Country</th>\n",
       "    </tr>\n",
       "  </thead>\n",
       "  <tbody>\n",
       "    <tr>\n",
       "      <th>3</th>\n",
       "      <td>1940</td>\n",
       "      <td>8.2</td>\n",
       "      <td>Peru, Lima</td>\n",
       "      <td>45.0</td>\n",
       "      <td>8</td>\n",
       "      <td>179–300</td>\n",
       "      <td>3500</td>\n",
       "      <td>1940-05-24</td>\n",
       "      <td>0</td>\n",
       "      <td>Peru</td>\n",
       "    </tr>\n",
       "    <tr>\n",
       "      <th>47</th>\n",
       "      <td>1981</td>\n",
       "      <td>7.7</td>\n",
       "      <td>Samoa, Apia</td>\n",
       "      <td>25.0</td>\n",
       "      <td>6</td>\n",
       "      <td>1[27]</td>\n",
       "      <td>0</td>\n",
       "      <td>1981-09-01</td>\n",
       "      <td>0</td>\n",
       "      <td>Samoa</td>\n",
       "    </tr>\n",
       "    <tr>\n",
       "      <th>90</th>\n",
       "      <td>2023</td>\n",
       "      <td>7.8</td>\n",
       "      <td>Turkey, Southeastern Anatolia</td>\n",
       "      <td>17.9</td>\n",
       "      <td>12</td>\n",
       "      <td>57,350+</td>\n",
       "      <td>130,000+</td>\n",
       "      <td>2023-02-06</td>\n",
       "      <td>0</td>\n",
       "      <td>Turkey</td>\n",
       "    </tr>\n",
       "  </tbody>\n",
       "</table>\n",
       "</div>"
      ],
      "text/plain": [
       "    Year  Magnitude                       Location  Depth (km)  MMI   Deaths  \\\n",
       "3   1940        8.2                     Peru, Lima        45.0    8  179–300   \n",
       "47  1981        7.7                    Samoa, Apia        25.0    6    1[27]   \n",
       "90  2023        7.8  Turkey, Southeastern Anatolia        17.9   12  57,350+   \n",
       "\n",
       "    Injuries       Date  Offshore Country  \n",
       "3       3500 1940-05-24         0    Peru  \n",
       "47         0 1981-09-01         0   Samoa  \n",
       "90  130,000+ 2023-02-06         0  Turkey  "
      ]
     },
     "execution_count": 22,
     "metadata": {},
     "output_type": "execute_result"
    }
   ],
   "source": [
    "df[df.Deaths.isin(['1[27]', '179–300', '57,350+'])]\n"
   ]
  },
  {
   "cell_type": "markdown",
   "id": "2fec7125",
   "metadata": {},
   "source": [
    "We replace these values with:\n",
    "\n",
    " - 179\n",
    " - 1\n",
    " - 57658\n",
    " \n",
    " And convert the column to integers:"
   ]
  },
  {
   "cell_type": "code",
   "execution_count": 23,
   "id": "d8229f00",
   "metadata": {},
   "outputs": [],
   "source": [
    "df.replace({'Deaths' : { '1[27]': '1', '179–300': '179', '57,350+': '57658' }}, inplace=True)\n",
    "df['Deaths'] = df['Deaths'].astype(int)"
   ]
  },
  {
   "cell_type": "markdown",
   "id": "28ab84c9",
   "metadata": {},
   "source": [
    "### Injuries"
   ]
  },
  {
   "cell_type": "code",
   "execution_count": 24,
   "id": "e72e12f8",
   "metadata": {},
   "outputs": [
    {
     "data": {
      "text/plain": [
       "0           49\n",
       "1            2\n",
       "3000         2\n",
       "7            1\n",
       "423          1\n",
       "11305        1\n",
       "2713         1\n",
       "849          1\n",
       "125000       1\n",
       "300          1\n",
       "374177       1\n",
       "12000        1\n",
       "1742         1\n",
       "6000         1\n",
       "12           1\n",
       "9            1\n",
       "34           1\n",
       "250          1\n",
       "42           1\n",
       "35           1\n",
       "59           1\n",
       "71           1\n",
       "3500         1\n",
       "4            1\n",
       "25           1\n",
       "2135         1\n",
       "1200         1\n",
       "51           1\n",
       "13           1\n",
       "11000        1\n",
       "330          1\n",
       "5            1\n",
       "759          1\n",
       "27           1\n",
       "2400         1\n",
       "10000        1\n",
       "1100         1\n",
       "1325         1\n",
       "30000        1\n",
       "7700         1\n",
       "130,000+     1\n",
       "Name: Injuries, dtype: int64"
      ]
     },
     "execution_count": 24,
     "metadata": {},
     "output_type": "execute_result"
    }
   ],
   "source": [
    "df.Injuries.value_counts()"
   ]
  },
  {
   "cell_type": "code",
   "execution_count": 25,
   "id": "bc736f18",
   "metadata": {},
   "outputs": [
    {
     "data": {
      "text/html": [
       "<div>\n",
       "<style scoped>\n",
       "    .dataframe tbody tr th:only-of-type {\n",
       "        vertical-align: middle;\n",
       "    }\n",
       "\n",
       "    .dataframe tbody tr th {\n",
       "        vertical-align: top;\n",
       "    }\n",
       "\n",
       "    .dataframe thead th {\n",
       "        text-align: right;\n",
       "    }\n",
       "</style>\n",
       "<table border=\"1\" class=\"dataframe\">\n",
       "  <thead>\n",
       "    <tr style=\"text-align: right;\">\n",
       "      <th></th>\n",
       "      <th>Year</th>\n",
       "      <th>Magnitude</th>\n",
       "      <th>Location</th>\n",
       "      <th>Depth (km)</th>\n",
       "      <th>MMI</th>\n",
       "      <th>Deaths</th>\n",
       "      <th>Injuries</th>\n",
       "      <th>Date</th>\n",
       "      <th>Offshore</th>\n",
       "      <th>Country</th>\n",
       "    </tr>\n",
       "  </thead>\n",
       "  <tbody>\n",
       "    <tr>\n",
       "      <th>90</th>\n",
       "      <td>2023</td>\n",
       "      <td>7.8</td>\n",
       "      <td>Turkey, Southeastern Anatolia</td>\n",
       "      <td>17.9</td>\n",
       "      <td>12</td>\n",
       "      <td>57658</td>\n",
       "      <td>130,000+</td>\n",
       "      <td>2023-02-06</td>\n",
       "      <td>0</td>\n",
       "      <td>Turkey</td>\n",
       "    </tr>\n",
       "  </tbody>\n",
       "</table>\n",
       "</div>"
      ],
      "text/plain": [
       "    Year  Magnitude                       Location  Depth (km)  MMI  Deaths  \\\n",
       "90  2023        7.8  Turkey, Southeastern Anatolia        17.9   12   57658   \n",
       "\n",
       "    Injuries       Date  Offshore Country  \n",
       "90  130,000+ 2023-02-06         0  Turkey  "
      ]
     },
     "execution_count": 25,
     "metadata": {},
     "output_type": "execute_result"
    }
   ],
   "source": [
    "df[df.Injuries == '130,000+']"
   ]
  },
  {
   "cell_type": "code",
   "execution_count": 26,
   "id": "a834d06a",
   "metadata": {},
   "outputs": [],
   "source": [
    "df.replace({'Injuries': {'130,000+': '12170'}}, inplace=True)\n",
    "df['Injuries'] = df['Injuries'].astype(int)"
   ]
  },
  {
   "cell_type": "markdown",
   "id": "25b620e2",
   "metadata": {},
   "source": [
    "### Final Dataframe"
   ]
  },
  {
   "cell_type": "code",
   "execution_count": 31,
   "id": "1f9a74d1",
   "metadata": {},
   "outputs": [
    {
     "data": {
      "text/html": [
       "<div>\n",
       "<style scoped>\n",
       "    .dataframe tbody tr th:only-of-type {\n",
       "        vertical-align: middle;\n",
       "    }\n",
       "\n",
       "    .dataframe tbody tr th {\n",
       "        vertical-align: top;\n",
       "    }\n",
       "\n",
       "    .dataframe thead th {\n",
       "        text-align: right;\n",
       "    }\n",
       "</style>\n",
       "<table border=\"1\" class=\"dataframe\">\n",
       "  <thead>\n",
       "    <tr style=\"text-align: right;\">\n",
       "      <th></th>\n",
       "      <th>Magnitude</th>\n",
       "      <th>Location</th>\n",
       "      <th>Depth (km)</th>\n",
       "      <th>MMI</th>\n",
       "      <th>Deaths</th>\n",
       "      <th>Injuries</th>\n",
       "      <th>Date</th>\n",
       "      <th>Offshore</th>\n",
       "      <th>Country</th>\n",
       "    </tr>\n",
       "  </thead>\n",
       "  <tbody>\n",
       "    <tr>\n",
       "      <th>0</th>\n",
       "      <td>7.8</td>\n",
       "      <td>Republic of China, Qinghai</td>\n",
       "      <td>15.0</td>\n",
       "      <td>8</td>\n",
       "      <td>0</td>\n",
       "      <td>0</td>\n",
       "      <td>1937-01-07</td>\n",
       "      <td>0</td>\n",
       "      <td>Republic of China</td>\n",
       "    </tr>\n",
       "    <tr>\n",
       "      <th>1</th>\n",
       "      <td>8.5</td>\n",
       "      <td>Dutch East Indies, Maluku offshore</td>\n",
       "      <td>60.0</td>\n",
       "      <td>7</td>\n",
       "      <td>0</td>\n",
       "      <td>0</td>\n",
       "      <td>1938-02-01</td>\n",
       "      <td>1</td>\n",
       "      <td>Dutch East Indies</td>\n",
       "    </tr>\n",
       "    <tr>\n",
       "      <th>2</th>\n",
       "      <td>8.1</td>\n",
       "      <td>Dutch East Indies, Central Sulawesi offshore</td>\n",
       "      <td>150.0</td>\n",
       "      <td>7</td>\n",
       "      <td>0</td>\n",
       "      <td>0</td>\n",
       "      <td>1939-12-21</td>\n",
       "      <td>1</td>\n",
       "      <td>Dutch East Indies</td>\n",
       "    </tr>\n",
       "    <tr>\n",
       "      <th>3</th>\n",
       "      <td>8.2</td>\n",
       "      <td>Peru, Lima</td>\n",
       "      <td>45.0</td>\n",
       "      <td>8</td>\n",
       "      <td>179</td>\n",
       "      <td>3500</td>\n",
       "      <td>1940-05-24</td>\n",
       "      <td>0</td>\n",
       "      <td>Peru</td>\n",
       "    </tr>\n",
       "    <tr>\n",
       "      <th>4</th>\n",
       "      <td>8.0</td>\n",
       "      <td>Japan, Miyazaki offshore</td>\n",
       "      <td>35.0</td>\n",
       "      <td>7</td>\n",
       "      <td>2</td>\n",
       "      <td>0</td>\n",
       "      <td>1941-11-18</td>\n",
       "      <td>1</td>\n",
       "      <td>Japan</td>\n",
       "    </tr>\n",
       "  </tbody>\n",
       "</table>\n",
       "</div>"
      ],
      "text/plain": [
       "   Magnitude                                      Location  Depth (km)  MMI  \\\n",
       "0        7.8                    Republic of China, Qinghai        15.0    8   \n",
       "1        8.5            Dutch East Indies, Maluku offshore        60.0    7   \n",
       "2        8.1  Dutch East Indies, Central Sulawesi offshore       150.0    7   \n",
       "3        8.2                                    Peru, Lima        45.0    8   \n",
       "4        8.0                      Japan, Miyazaki offshore        35.0    7   \n",
       "\n",
       "   Deaths  Injuries       Date  Offshore            Country  \n",
       "0       0         0 1937-01-07         0  Republic of China  \n",
       "1       0         0 1938-02-01         1  Dutch East Indies  \n",
       "2       0         0 1939-12-21         1  Dutch East Indies  \n",
       "3     179      3500 1940-05-24         0               Peru  \n",
       "4       2         0 1941-11-18         1              Japan  "
      ]
     },
     "execution_count": 31,
     "metadata": {},
     "output_type": "execute_result"
    }
   ],
   "source": [
    "df.head()"
   ]
  },
  {
   "cell_type": "code",
   "execution_count": 32,
   "id": "e121cc9c",
   "metadata": {},
   "outputs": [
    {
     "data": {
      "text/html": [
       "<div>\n",
       "<style scoped>\n",
       "    .dataframe tbody tr th:only-of-type {\n",
       "        vertical-align: middle;\n",
       "    }\n",
       "\n",
       "    .dataframe tbody tr th {\n",
       "        vertical-align: top;\n",
       "    }\n",
       "\n",
       "    .dataframe thead th {\n",
       "        text-align: right;\n",
       "    }\n",
       "</style>\n",
       "<table border=\"1\" class=\"dataframe\">\n",
       "  <thead>\n",
       "    <tr style=\"text-align: right;\">\n",
       "      <th></th>\n",
       "      <th>Magnitude</th>\n",
       "      <th>Depth (km)</th>\n",
       "      <th>MMI</th>\n",
       "      <th>Deaths</th>\n",
       "      <th>Injuries</th>\n",
       "      <th>Offshore</th>\n",
       "    </tr>\n",
       "  </thead>\n",
       "  <tbody>\n",
       "    <tr>\n",
       "      <th>count</th>\n",
       "      <td>91.000000</td>\n",
       "      <td>91.000000</td>\n",
       "      <td>91.000000</td>\n",
       "      <td>91.000000</td>\n",
       "      <td>91.000000</td>\n",
       "      <td>91.000000</td>\n",
       "    </tr>\n",
       "    <tr>\n",
       "      <th>mean</th>\n",
       "      <td>8.078022</td>\n",
       "      <td>67.140659</td>\n",
       "      <td>7.758242</td>\n",
       "      <td>4874.747253</td>\n",
       "      <td>6865.648352</td>\n",
       "      <td>0.131868</td>\n",
       "    </tr>\n",
       "    <tr>\n",
       "      <th>std</th>\n",
       "      <td>0.409010</td>\n",
       "      <td>140.280440</td>\n",
       "      <td>1.928388</td>\n",
       "      <td>26125.826571</td>\n",
       "      <td>41236.078294</td>\n",
       "      <td>0.340222</td>\n",
       "    </tr>\n",
       "    <tr>\n",
       "      <th>min</th>\n",
       "      <td>7.300000</td>\n",
       "      <td>3.000000</td>\n",
       "      <td>1.000000</td>\n",
       "      <td>0.000000</td>\n",
       "      <td>0.000000</td>\n",
       "      <td>0.000000</td>\n",
       "    </tr>\n",
       "    <tr>\n",
       "      <th>25%</th>\n",
       "      <td>7.800000</td>\n",
       "      <td>18.050000</td>\n",
       "      <td>7.000000</td>\n",
       "      <td>0.000000</td>\n",
       "      <td>0.000000</td>\n",
       "      <td>0.000000</td>\n",
       "    </tr>\n",
       "    <tr>\n",
       "      <th>50%</th>\n",
       "      <td>8.000000</td>\n",
       "      <td>25.500000</td>\n",
       "      <td>8.000000</td>\n",
       "      <td>3.000000</td>\n",
       "      <td>0.000000</td>\n",
       "      <td>0.000000</td>\n",
       "    </tr>\n",
       "    <tr>\n",
       "      <th>75%</th>\n",
       "      <td>8.300000</td>\n",
       "      <td>36.000000</td>\n",
       "      <td>9.000000</td>\n",
       "      <td>169.500000</td>\n",
       "      <td>376.500000</td>\n",
       "      <td>0.000000</td>\n",
       "    </tr>\n",
       "    <tr>\n",
       "      <th>max</th>\n",
       "      <td>9.500000</td>\n",
       "      <td>644.800000</td>\n",
       "      <td>12.000000</td>\n",
       "      <td>227898.000000</td>\n",
       "      <td>374177.000000</td>\n",
       "      <td>1.000000</td>\n",
       "    </tr>\n",
       "  </tbody>\n",
       "</table>\n",
       "</div>"
      ],
      "text/plain": [
       "       Magnitude  Depth (km)        MMI         Deaths       Injuries  \\\n",
       "count  91.000000   91.000000  91.000000      91.000000      91.000000   \n",
       "mean    8.078022   67.140659   7.758242    4874.747253    6865.648352   \n",
       "std     0.409010  140.280440   1.928388   26125.826571   41236.078294   \n",
       "min     7.300000    3.000000   1.000000       0.000000       0.000000   \n",
       "25%     7.800000   18.050000   7.000000       0.000000       0.000000   \n",
       "50%     8.000000   25.500000   8.000000       3.000000       0.000000   \n",
       "75%     8.300000   36.000000   9.000000     169.500000     376.500000   \n",
       "max     9.500000  644.800000  12.000000  227898.000000  374177.000000   \n",
       "\n",
       "        Offshore  \n",
       "count  91.000000  \n",
       "mean    0.131868  \n",
       "std     0.340222  \n",
       "min     0.000000  \n",
       "25%     0.000000  \n",
       "50%     0.000000  \n",
       "75%     0.000000  \n",
       "max     1.000000  "
      ]
     },
     "execution_count": 32,
     "metadata": {},
     "output_type": "execute_result"
    }
   ],
   "source": [
    "df.describe()"
   ]
  },
  {
   "cell_type": "markdown",
   "id": "4986ba2c",
   "metadata": {},
   "source": [
    "## Data Visualization"
   ]
  },
  {
   "cell_type": "markdown",
   "id": "5b7b7132",
   "metadata": {},
   "source": [
    "### Relationship between Magnitude and MMI"
   ]
  },
  {
   "cell_type": "code",
   "execution_count": 34,
   "id": "89763d15",
   "metadata": {},
   "outputs": [
    {
     "data": {
      "image/png": "[encoded data removed]",
      "text/plain": [
       "<Figure size 640x480 with 1 Axes>"
      ]
     },
     "metadata": {},
     "output_type": "display_data"
    }
   ],
   "source": [
    "df.plot.scatter(x='MMI', y='Magnitude')\n",
    "plt.show()"
   ]
  },
  {
   "cell_type": "markdown",
   "id": "436a67c5",
   "metadata": {},
   "source": [
    "There is a general positive correlation.\n",
    "However it is not uncommon to have earthquakes with similar magnitudes but very different MMI's.\n",
    "This is because the MMI measures the effects of an earthquake at a given location, distinguished from the earthquake's inherent force or strength as measured by seismic magnitude scales ([link](https://en.wikipedia.org/wiki/Modified_Mercalli_intensity_scale))"
   ]
  },
  {
   "cell_type": "markdown",
   "id": "8f217add",
   "metadata": {},
   "source": [
    "### Relationship between Magnitude and Depth"
   ]
  },
  {
   "cell_type": "code",
   "execution_count": 40,
   "id": "d8b762ae",
   "metadata": {},
   "outputs": [
    {
     "data": {
      "image/png": "[encoded data removed]",
      "text/plain": [
       "<Figure size 640x480 with 1 Axes>"
      ]
     },
     "metadata": {},
     "output_type": "display_data"
    }
   ],
   "source": [
    "df.plot.scatter(x='Depth', y='Magnitude')\n",
    "plt.show()"
   ]
  },
  {
   "cell_type": "markdown",
   "id": "96128a04",
   "metadata": {},
   "source": [
    "### Relationship between Magnitude and Deaths"
   ]
  },
  {
   "cell_type": "code",
   "execution_count": 41,
   "id": "d4fe35ef",
   "metadata": {},
   "outputs": [
    {
     "data": {
      "image/png": "[encoded data removed]",
      "text/plain": [
       "<Figure size 640x480 with 1 Axes>"
      ]
     },
     "metadata": {},
     "output_type": "display_data"
    }
   ],
   "source": [
    "df.plot.scatter(x='Deaths', y='Magnitude')\n",
    "plt.show()"
   ]
  },
  {
   "cell_type": "markdown",
   "id": "eada367c",
   "metadata": {},
   "source": [
    "### Relationship between Magnitude and Injuries"
   ]
  },
  {
   "cell_type": "code",
   "execution_count": 42,
   "id": "8061e4db",
   "metadata": {},
   "outputs": [
    {
     "data": {
      "image/png": "[encoded data removed]",
      "text/plain": [
       "<Figure size 640x480 with 1 Axes>"
      ]
     },
     "metadata": {},
     "output_type": "display_data"
    }
   ],
   "source": [
    "df.plot.scatter(x='Injuries', y='Magnitude')\n",
    "plt.show()"
   ]
  },
  {
   "cell_type": "markdown",
   "id": "d962d49a",
   "metadata": {},
   "source": [
    "### Difference between Offshore and Land"
   ]
  },
  {
   "cell_type": "code",
   "execution_count": 58,
   "id": "de27dfa7",
   "metadata": {},
   "outputs": [
    {
     "data": {
      "image/png": "[encoded data removed]",
      "text/plain": [
       "<Figure size 1000x500 with 2 Axes>"
      ]
     },
     "metadata": {},
     "output_type": "display_data"
    }
   ],
   "source": [
    "df.plot.box(column = ['Magnitude', 'MMI'],\n",
    "            by='Offshore', figsize=(10,5))\n",
    "\n",
    "plt.show()"
   ]
  },
  {
   "cell_type": "markdown",
   "id": "e4a37ad9",
   "metadata": {},
   "source": [
    "### Deaths and Injuries over the Years"
   ]
  },
  {
   "cell_type": "code",
   "execution_count": 77,
   "id": "e9f974e3",
   "metadata": {},
   "outputs": [],
   "source": [
    "df_group_by_year = df.groupby(df['Date'].dt.year)[['Deaths', 'Injuries']].sum()\n",
    "\n",
    "\n",
    "df_group_by_year.index.names = ['Year']"
   ]
  },
  {
   "cell_type": "code",
   "execution_count": 78,
   "id": "019a9852",
   "metadata": {},
   "outputs": [
    {
     "data": {
      "text/html": [
       "<div>\n",
       "<style scoped>\n",
       "    .dataframe tbody tr th:only-of-type {\n",
       "        vertical-align: middle;\n",
       "    }\n",
       "\n",
       "    .dataframe tbody tr th {\n",
       "        vertical-align: top;\n",
       "    }\n",
       "\n",
       "    .dataframe thead th {\n",
       "        text-align: right;\n",
       "    }\n",
       "</style>\n",
       "<table border=\"1\" class=\"dataframe\">\n",
       "  <thead>\n",
       "    <tr style=\"text-align: right;\">\n",
       "      <th></th>\n",
       "      <th>Deaths</th>\n",
       "      <th>Injuries</th>\n",
       "    </tr>\n",
       "    <tr>\n",
       "      <th>Year</th>\n",
       "      <th></th>\n",
       "      <th></th>\n",
       "    </tr>\n",
       "  </thead>\n",
       "  <tbody>\n",
       "    <tr>\n",
       "      <th>1937</th>\n",
       "      <td>0</td>\n",
       "      <td>0</td>\n",
       "    </tr>\n",
       "    <tr>\n",
       "      <th>1938</th>\n",
       "      <td>0</td>\n",
       "      <td>0</td>\n",
       "    </tr>\n",
       "    <tr>\n",
       "      <th>1939</th>\n",
       "      <td>0</td>\n",
       "      <td>0</td>\n",
       "    </tr>\n",
       "    <tr>\n",
       "      <th>1940</th>\n",
       "      <td>179</td>\n",
       "      <td>3500</td>\n",
       "    </tr>\n",
       "    <tr>\n",
       "      <th>1941</th>\n",
       "      <td>2</td>\n",
       "      <td>0</td>\n",
       "    </tr>\n",
       "    <tr>\n",
       "      <th>...</th>\n",
       "      <td>...</td>\n",
       "      <td>...</td>\n",
       "    </tr>\n",
       "    <tr>\n",
       "      <th>2019</th>\n",
       "      <td>2</td>\n",
       "      <td>0</td>\n",
       "    </tr>\n",
       "    <tr>\n",
       "      <th>2020</th>\n",
       "      <td>0</td>\n",
       "      <td>0</td>\n",
       "    </tr>\n",
       "    <tr>\n",
       "      <th>2021</th>\n",
       "      <td>0</td>\n",
       "      <td>0</td>\n",
       "    </tr>\n",
       "    <tr>\n",
       "      <th>2022</th>\n",
       "      <td>23</td>\n",
       "      <td>77</td>\n",
       "    </tr>\n",
       "    <tr>\n",
       "      <th>2023</th>\n",
       "      <td>57658</td>\n",
       "      <td>12170</td>\n",
       "    </tr>\n",
       "  </tbody>\n",
       "</table>\n",
       "<p>87 rows × 2 columns</p>\n",
       "</div>"
      ],
      "text/plain": [
       "      Deaths  Injuries\n",
       "Year                  \n",
       "1937       0         0\n",
       "1938       0         0\n",
       "1939       0         0\n",
       "1940     179      3500\n",
       "1941       2         0\n",
       "...      ...       ...\n",
       "2019       2         0\n",
       "2020       0         0\n",
       "2021       0         0\n",
       "2022      23        77\n",
       "2023   57658     12170\n",
       "\n",
       "[87 rows x 2 columns]"
      ]
     },
     "execution_count": 78,
     "metadata": {},
     "output_type": "execute_result"
    }
   ],
   "source": [
    "df_group_by_year"
   ]
  },
  {
   "cell_type": "code",
   "execution_count": 84,
   "id": "9128e5e6",
   "metadata": {},
   "outputs": [
    {
     "data": {
      "image/png": "[encoded data removed]",
      "text/plain": [
       "<Figure size 1000x500 with 1 Axes>"
      ]
     },
     "metadata": {},
     "output_type": "display_data"
    }
   ],
   "source": [
    "df_group_by_year.plot.line( y=['Deaths', 'Injuries'],\n",
    "                          figsize=(10,5))\n",
    "plt.show()"
   ]
  },
  {
   "cell_type": "markdown",
   "id": "b3ff0ab1",
   "metadata": {},
   "source": [
    "### Deaths and Injuries by Country\n"
   ]
  },
  {
   "cell_type": "code",
   "execution_count": 95,
   "id": "8dbf4f3a",
   "metadata": {},
   "outputs": [
    {
     "data": {
      "text/html": [
       "<div>\n",
       "<style scoped>\n",
       "    .dataframe tbody tr th:only-of-type {\n",
       "        vertical-align: middle;\n",
       "    }\n",
       "\n",
       "    .dataframe tbody tr th {\n",
       "        vertical-align: top;\n",
       "    }\n",
       "\n",
       "    .dataframe thead th {\n",
       "        text-align: right;\n",
       "    }\n",
       "</style>\n",
       "<table border=\"1\" class=\"dataframe\">\n",
       "  <thead>\n",
       "    <tr style=\"text-align: right;\">\n",
       "      <th></th>\n",
       "      <th>Deaths</th>\n",
       "      <th>Injuries</th>\n",
       "    </tr>\n",
       "    <tr>\n",
       "      <th>Country</th>\n",
       "      <th></th>\n",
       "      <th></th>\n",
       "    </tr>\n",
       "  </thead>\n",
       "  <tbody>\n",
       "    <tr>\n",
       "      <th>north Atlantic Ocean</th>\n",
       "      <td>0</td>\n",
       "      <td>0</td>\n",
       "    </tr>\n",
       "    <tr>\n",
       "      <th>Republic of China</th>\n",
       "      <td>0</td>\n",
       "      <td>0</td>\n",
       "    </tr>\n",
       "    <tr>\n",
       "      <th>Guam</th>\n",
       "      <td>0</td>\n",
       "      <td>71</td>\n",
       "    </tr>\n",
       "    <tr>\n",
       "      <th>Fiji offshore</th>\n",
       "      <td>0</td>\n",
       "      <td>0</td>\n",
       "    </tr>\n",
       "    <tr>\n",
       "      <th>Fiji</th>\n",
       "      <td>0</td>\n",
       "      <td>0</td>\n",
       "    </tr>\n",
       "    <tr>\n",
       "      <th>Dutch East Indies</th>\n",
       "      <td>0</td>\n",
       "      <td>0</td>\n",
       "    </tr>\n",
       "    <tr>\n",
       "      <th>Spain</th>\n",
       "      <td>0</td>\n",
       "      <td>0</td>\n",
       "    </tr>\n",
       "    <tr>\n",
       "      <th>Canada</th>\n",
       "      <td>0</td>\n",
       "      <td>0</td>\n",
       "    </tr>\n",
       "    <tr>\n",
       "      <th>Australia</th>\n",
       "      <td>0</td>\n",
       "      <td>0</td>\n",
       "    </tr>\n",
       "    <tr>\n",
       "      <th>Antarctica</th>\n",
       "      <td>0</td>\n",
       "      <td>0</td>\n",
       "    </tr>\n",
       "    <tr>\n",
       "      <th>Solomon Islands</th>\n",
       "      <td>0</td>\n",
       "      <td>0</td>\n",
       "    </tr>\n",
       "    <tr>\n",
       "      <th>New Zealand</th>\n",
       "      <td>0</td>\n",
       "      <td>0</td>\n",
       "    </tr>\n",
       "    <tr>\n",
       "      <th>Russia</th>\n",
       "      <td>12</td>\n",
       "      <td>1743</td>\n",
       "    </tr>\n",
       "    <tr>\n",
       "      <th>Papua New Guinea</th>\n",
       "      <td>26</td>\n",
       "      <td>47</td>\n",
       "    </tr>\n",
       "    <tr>\n",
       "      <th>El Salvador</th>\n",
       "      <td>43</td>\n",
       "      <td>0</td>\n",
       "    </tr>\n",
       "    <tr>\n",
       "      <th>Greece</th>\n",
       "      <td>56</td>\n",
       "      <td>0</td>\n",
       "    </tr>\n",
       "    <tr>\n",
       "      <th>Costa Rica</th>\n",
       "      <td>127</td>\n",
       "      <td>759</td>\n",
       "    </tr>\n",
       "    <tr>\n",
       "      <th>Alaska</th>\n",
       "      <td>131</td>\n",
       "      <td>0</td>\n",
       "    </tr>\n",
       "    <tr>\n",
       "      <th>United States</th>\n",
       "      <td>175</td>\n",
       "      <td>1</td>\n",
       "    </tr>\n",
       "    <tr>\n",
       "      <th>Samoa</th>\n",
       "      <td>190</td>\n",
       "      <td>7</td>\n",
       "    </tr>\n",
       "    <tr>\n",
       "      <th>Colombia</th>\n",
       "      <td>601</td>\n",
       "      <td>4</td>\n",
       "    </tr>\n",
       "    <tr>\n",
       "      <th>Myanmar–China border region</th>\n",
       "      <td>938</td>\n",
       "      <td>7700</td>\n",
       "    </tr>\n",
       "    <tr>\n",
       "      <th>Soviet Union</th>\n",
       "      <td>2337</td>\n",
       "      <td>64</td>\n",
       "    </tr>\n",
       "    <tr>\n",
       "      <th>Taiwan</th>\n",
       "      <td>2529</td>\n",
       "      <td>12505</td>\n",
       "    </tr>\n",
       "    <tr>\n",
       "      <th>Peru</th>\n",
       "      <td>2792</td>\n",
       "      <td>11638</td>\n",
       "    </tr>\n",
       "    <tr>\n",
       "      <th>India</th>\n",
       "      <td>4000</td>\n",
       "      <td>0</td>\n",
       "    </tr>\n",
       "    <tr>\n",
       "      <th>India–China</th>\n",
       "      <td>4800</td>\n",
       "      <td>0</td>\n",
       "    </tr>\n",
       "    <tr>\n",
       "      <th>Chile</th>\n",
       "      <td>6591</td>\n",
       "      <td>23102</td>\n",
       "    </tr>\n",
       "    <tr>\n",
       "      <th>Philippines</th>\n",
       "      <td>9671</td>\n",
       "      <td>13000</td>\n",
       "    </tr>\n",
       "    <tr>\n",
       "      <th>Mexico</th>\n",
       "      <td>10100</td>\n",
       "      <td>30285</td>\n",
       "    </tr>\n",
       "    <tr>\n",
       "      <th>Japan</th>\n",
       "      <td>21053</td>\n",
       "      <td>10666</td>\n",
       "    </tr>\n",
       "    <tr>\n",
       "      <th>Turkey</th>\n",
       "      <td>57744</td>\n",
       "      <td>12170</td>\n",
       "    </tr>\n",
       "    <tr>\n",
       "      <th>China</th>\n",
       "      <td>87587</td>\n",
       "      <td>374177</td>\n",
       "    </tr>\n",
       "    <tr>\n",
       "      <th>Indonesia</th>\n",
       "      <td>232099</td>\n",
       "      <td>126835</td>\n",
       "    </tr>\n",
       "  </tbody>\n",
       "</table>\n",
       "</div>"
      ],
      "text/plain": [
       "                             Deaths  Injuries\n",
       "Country                                      \n",
       "north Atlantic Ocean              0         0\n",
       "Republic of China                 0         0\n",
       "Guam                              0        71\n",
       "Fiji offshore                     0         0\n",
       "Fiji                              0         0\n",
       "Dutch East Indies                 0         0\n",
       "Spain                             0         0\n",
       "Canada                            0         0\n",
       "Australia                         0         0\n",
       "Antarctica                        0         0\n",
       "Solomon Islands                   0         0\n",
       "New Zealand                       0         0\n",
       "Russia                           12      1743\n",
       "Papua New Guinea                 26        47\n",
       "El Salvador                      43         0\n",
       "Greece                           56         0\n",
       "Costa Rica                      127       759\n",
       "Alaska                          131         0\n",
       "United States                   175         1\n",
       "Samoa                           190         7\n",
       "Colombia                        601         4\n",
       "Myanmar–China border region     938      7700\n",
       "Soviet Union                   2337        64\n",
       "Taiwan                         2529     12505\n",
       "Peru                           2792     11638\n",
       "India                          4000         0\n",
       "India–China                    4800         0\n",
       "Chile                          6591     23102\n",
       "Philippines                    9671     13000\n",
       "Mexico                        10100     30285\n",
       "Japan                         21053     10666\n",
       "Turkey                        57744     12170\n",
       "China                         87587    374177\n",
       "Indonesia                    232099    126835"
      ]
     },
     "execution_count": 95,
     "metadata": {},
     "output_type": "execute_result"
    }
   ],
   "source": [
    "df_group_by_country = df.groupby('Country')[['Deaths', 'Injuries']].sum()\n",
    "df_group_by_country.sort_values(by='Deaths', ascending=True, inplace=True)\n",
    "\n",
    "df_group_by_country"
   ]
  },
  {
   "cell_type": "code",
   "execution_count": null,
   "id": "a0cf7207",
   "metadata": {},
   "outputs": [],
   "source": []
  },
  {
   "cell_type": "code",
   "execution_count": 101,
   "id": "8f14d9cc",
   "metadata": {},
   "outputs": [
    {
     "data": {
      "image/png": "[encoded data removed]",
      "text/plain": [
       "<Figure size 800x600 with 1 Axes>"
      ]
     },
     "metadata": {},
     "output_type": "display_data"
    }
   ],
   "source": [
    "df_group_by_country[df_group_by_country.Deaths>100].plot.barh(figsize=(8,6),)\n",
    "\n",
    "plt.show()"
   ]
  }
 ],
 "metadata": {
  "kernelspec": {
   "display_name": "Python 3 (ipykernel)",
   "language": "python",
   "name": "python3"
  },
  "language_info": {
   "codemirror_mode": {
    "name": "ipython",
    "version": 3
   },
   "file_extension": ".py",
   "mimetype": "text/x-python",
   "name": "python",
   "nbconvert_exporter": "python",
   "pygments_lexer": "ipython3",
   "version": "3.11.2"
  }
 },
 "nbformat": 4,
 "nbformat_minor": 5
}
